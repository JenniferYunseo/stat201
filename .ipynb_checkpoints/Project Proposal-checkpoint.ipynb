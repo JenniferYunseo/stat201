{
 "cells": [
  {
   "cell_type": "markdown",
   "id": "a3ec576d-447f-493e-8161-4f9713781e41",
   "metadata": {},
   "source": [
    "# Group 40 Project Proposal"
   ]
  },
  {
   "cell_type": "markdown",
   "id": "82df1cda-2ff8-4328-b624-c1b0665058b8",
   "metadata": {
    "tags": []
   },
   "source": [
    "## Introduction\n",
    "\n",
    "Begin by providing some relevant background information on the topic so that someone unfamiliar with it will be prepared to understand the rest of your proposal.\n",
    "\n",
    "Clearly state the question you will try to answer with your project. Your question should involve one or more random variables of interest, spread across two or more categories that are interesting to compare. For example, you could consider the annual maxima river flow at two different locations along a river, or perhaps gender diversity at different universities. Of the response variable, identify one location parameter (mean, median, quantile, etc.) and one scale parameter (standard deviation, inter-quartile range, etc.) that would be useful in answering your question. Justify your choices.\n",
    "\n",
    "UPDATE (Mar 1, 2022): If it doesn’t make sense to infer a scale parameter, you can choose another parameter, or choose a second variable altogether. Ultimately, we’re looking for a comprehensive inference analysis on one parameter spread across 2+ groups (with at least one hypothesis test), plus a bit more (such as an investigation on the variance, a quantile, or a different variable). In total, you should use both bootstrapping and asymptotics somewhere in your report at least once each. Also, your hypothesis test(s) need not be significant: it is perfectly fine to write a report claiming no significant findings (i.e. your p-value is large).\n",
    "\n",
    "Identify and describe the dataset that will be used to answer the question. Remember, this dataset is allowed to contain more variables than you need – feel free to drop them!\n",
    "\n",
    "Also, be sure to frame your question/objectives in terms of what is already known in the literature. Be sure to include at least two scientific publications that can help frame your study (you will need to include these in the References section). We have no specific citation style requirements, but be consistent.\n"
   ]
  },
  {
   "cell_type": "markdown",
   "id": "fc1a90aa-19a2-4466-9173-b93718d5712a",
   "metadata": {},
   "source": [
    "The gender pay gap is the difference between wages earned by men and women. The disparity has long been reported (Maloney 2016). The Equal Pay Act was signed by President John F.Kennedy in 1963 (cite) and it mandates that women should receive equal pay for doing \"substantially equal\" work. Over the last 50 years, numerous laws and legislation have been passed in hope to deminish the disparity. However, Statistic Canada reported that female employees in Ontario earned $0.75 for every dollars earned by men in 2020(Statistics Canada data from the Canadian Income Survey). In this report, we would confirm whether women are earning less than men. We will compare mean of income and standard deviation between men and women. To achieve this, we used a dataset genereated by scraping of Glassdoor. It contains income for various job titles based on gender. \n",
    "\n",
    "\n",
    "\n",
    "**Dataset**:\n",
    "* Found using <a href=\"https://www.kaggle.com/datasets/nilimajauhari/glassdoor-analyze-gender-pay-gap\" target=\"_blank\">this link</a> \n",
    "\n",
    "* Dataset is scraped from <a href=\"https://www.glassdoor.com/\" target=\"_blank\">Glassdoor website</a> \n"
   ]
  },
  {
   "cell_type": "markdown",
   "id": "cb1a8f4e-dd73-49b6-b97c-d714c281c022",
   "metadata": {},
   "source": [
    "## Preliminary Results\n",
    "Demonstrate that the dataset can be read from the web into R.\n",
    "\n",
    "Clean and wrangle your data into a tidy format.\n",
    "\n",
    "Plot the relevant raw data, tailoring your plot in a way that addresses your question.\n",
    "\n",
    "Compute estimates of the parameter you identified across your groups. Present this in a table. If relevant, include these estimates in your plot."
   ]
  },
  {
   "cell_type": "code",
   "execution_count": 2,
   "id": "0c47c2e1-2426-4bed-8c52-317e1f67f673",
   "metadata": {},
   "outputs": [
    {
     "name": "stderr",
     "output_type": "stream",
     "text": [
      "── \u001b[1mAttaching packages\u001b[22m ─────────────────────────────────────── tidyverse 1.3.2 ──\n",
      "\u001b[32m✔\u001b[39m \u001b[34mggplot2\u001b[39m 3.3.6      \u001b[32m✔\u001b[39m \u001b[34mpurrr  \u001b[39m 0.3.4 \n",
      "\u001b[32m✔\u001b[39m \u001b[34mtibble \u001b[39m 3.1.8      \u001b[32m✔\u001b[39m \u001b[34mdplyr  \u001b[39m 1.0.10\n",
      "\u001b[32m✔\u001b[39m \u001b[34mtidyr  \u001b[39m 1.2.1      \u001b[32m✔\u001b[39m \u001b[34mstringr\u001b[39m 1.4.1 \n",
      "\u001b[32m✔\u001b[39m \u001b[34mreadr  \u001b[39m 2.1.2      \u001b[32m✔\u001b[39m \u001b[34mforcats\u001b[39m 0.5.2 \n",
      "── \u001b[1mConflicts\u001b[22m ────────────────────────────────────────── tidyverse_conflicts() ──\n",
      "\u001b[31m✖\u001b[39m \u001b[34mdplyr\u001b[39m::\u001b[32mfilter()\u001b[39m masks \u001b[34mstats\u001b[39m::filter()\n",
      "\u001b[31m✖\u001b[39m \u001b[34mdplyr\u001b[39m::\u001b[32mlag()\u001b[39m    masks \u001b[34mstats\u001b[39m::lag()\n",
      "── \u001b[1mAttaching packages\u001b[22m ────────────────────────────────────── tidymodels 1.0.0 ──\n",
      "\n",
      "\u001b[32m✔\u001b[39m \u001b[34mbroom       \u001b[39m 1.0.1     \u001b[32m✔\u001b[39m \u001b[34mrsample     \u001b[39m 1.1.0\n",
      "\u001b[32m✔\u001b[39m \u001b[34mdials       \u001b[39m 1.0.0     \u001b[32m✔\u001b[39m \u001b[34mtune        \u001b[39m 1.0.0\n",
      "\u001b[32m✔\u001b[39m \u001b[34minfer       \u001b[39m 1.0.3     \u001b[32m✔\u001b[39m \u001b[34mworkflows   \u001b[39m 1.0.0\n",
      "\u001b[32m✔\u001b[39m \u001b[34mmodeldata   \u001b[39m 1.0.1     \u001b[32m✔\u001b[39m \u001b[34mworkflowsets\u001b[39m 1.0.0\n",
      "\u001b[32m✔\u001b[39m \u001b[34mparsnip     \u001b[39m 1.0.1     \u001b[32m✔\u001b[39m \u001b[34myardstick   \u001b[39m 1.1.0\n",
      "\u001b[32m✔\u001b[39m \u001b[34mrecipes     \u001b[39m 1.0.1     \n",
      "\n",
      "── \u001b[1mConflicts\u001b[22m ───────────────────────────────────────── tidymodels_conflicts() ──\n",
      "\u001b[31m✖\u001b[39m \u001b[34mscales\u001b[39m::\u001b[32mdiscard()\u001b[39m masks \u001b[34mpurrr\u001b[39m::discard()\n",
      "\u001b[31m✖\u001b[39m \u001b[34mdplyr\u001b[39m::\u001b[32mfilter()\u001b[39m   masks \u001b[34mstats\u001b[39m::filter()\n",
      "\u001b[31m✖\u001b[39m \u001b[34mrecipes\u001b[39m::\u001b[32mfixed()\u001b[39m  masks \u001b[34mstringr\u001b[39m::fixed()\n",
      "\u001b[31m✖\u001b[39m \u001b[34mdplyr\u001b[39m::\u001b[32mlag()\u001b[39m      masks \u001b[34mstats\u001b[39m::lag()\n",
      "\u001b[31m✖\u001b[39m \u001b[34myardstick\u001b[39m::\u001b[32mspec()\u001b[39m masks \u001b[34mreadr\u001b[39m::spec()\n",
      "\u001b[31m✖\u001b[39m \u001b[34mrecipes\u001b[39m::\u001b[32mstep()\u001b[39m   masks \u001b[34mstats\u001b[39m::step()\n",
      "\u001b[34m•\u001b[39m Use suppressPackageStartupMessages() to eliminate package startup messages\n",
      "\n"
     ]
    }
   ],
   "source": [
    "#library needed for this project\n",
    "library(tidyverse)\n",
    "library(dplyr)\n",
    "library(RColorBrewer)\n",
    "library(tidyr)\n",
    "library(tidymodels)\n",
    "library(repr)\n",
    "library(cowplot)\n",
    "options(repr.matrix.max.rows = 6)"
   ]
  },
  {
   "cell_type": "markdown",
   "id": "99099249-e460-4fa4-8854-e9dec11ebc23",
   "metadata": {},
   "source": [
    "### Load data into Jupyter notebook"
   ]
  },
  {
   "cell_type": "code",
   "execution_count": 20,
   "id": "5289fce9-789f-42db-85de-a5a6dc495e05",
   "metadata": {},
   "outputs": [
    {
     "name": "stderr",
     "output_type": "stream",
     "text": [
      "\u001b[1mRows: \u001b[22m\u001b[34m1000\u001b[39m \u001b[1mColumns: \u001b[22m\u001b[34m9\u001b[39m\n",
      "\u001b[36m──\u001b[39m \u001b[1mColumn specification\u001b[22m \u001b[36m────────────────────────────────────────────────────────\u001b[39m\n",
      "\u001b[1mDelimiter:\u001b[22m \",\"\n",
      "\u001b[31mchr\u001b[39m (4): JobTitle, Gender, Education, Dept\n",
      "\u001b[32mdbl\u001b[39m (5): Age, PerfEval, Seniority, BasePay, Bonus\n",
      "\n",
      "\u001b[36mℹ\u001b[39m Use `spec()` to retrieve the full column specification for this data.\n",
      "\u001b[36mℹ\u001b[39m Specify the column types or set `show_col_types = FALSE` to quiet this message.\n"
     ]
    }
   ],
   "source": [
    "df <- read_csv(\"https://raw.githubusercontent.com/kristennli/stat201/main/glassdoor.csv\")"
   ]
  },
  {
   "cell_type": "code",
   "execution_count": 21,
   "id": "c632073f-d999-4e9b-9003-9c77ec011d25",
   "metadata": {},
   "outputs": [
    {
     "data": {
      "text/plain": [
       "   JobTitle            Gender               Age           PerfEval    \n",
       " Length:1000        Length:1000        Min.   :18.00   Min.   :1.000  \n",
       " Class :character   Class :character   1st Qu.:29.00   1st Qu.:2.000  \n",
       " Mode  :character   Mode  :character   Median :41.00   Median :3.000  \n",
       "                                       Mean   :41.39   Mean   :3.037  \n",
       "                                       3rd Qu.:54.25   3rd Qu.:4.000  \n",
       "                                       Max.   :65.00   Max.   :5.000  \n",
       "  Education             Dept             Seniority        BasePay      \n",
       " Length:1000        Length:1000        Min.   :1.000   Min.   : 34208  \n",
       " Class :character   Class :character   1st Qu.:2.000   1st Qu.: 76850  \n",
       " Mode  :character   Mode  :character   Median :3.000   Median : 93328  \n",
       "                                       Mean   :2.971   Mean   : 94473  \n",
       "                                       3rd Qu.:4.000   3rd Qu.:111558  \n",
       "                                       Max.   :5.000   Max.   :179726  \n",
       "     Bonus      \n",
       " Min.   : 1703  \n",
       " 1st Qu.: 4850  \n",
       " Median : 6507  \n",
       " Mean   : 6467  \n",
       " 3rd Qu.: 8026  \n",
       " Max.   :11293  "
      ]
     },
     "metadata": {},
     "output_type": "display_data"
    }
   ],
   "source": [
    "summary(df)"
   ]
  },
  {
   "cell_type": "markdown",
   "id": "6714ef58-0fbe-404a-b0f7-b4919ad37d95",
   "metadata": {},
   "source": [
    "## Methods: Plan\n",
    "\n",
    "The previous sections will carry over to your final report (you’ll be allowed to improve them based on feedback you get). Begin this Methods section with a brief description of “the good things” about this report – specifically, in what ways is this report trustworthy?\n",
    "\n",
    "Continue by explaining why the plot(s) and estimates that you produced are not enough to give to a stakeholder, and what you should provide in addition to address this gap. Make sure your plans include at least one hypothesis test and one confidence interval. If possible, compare both the bootstrapping and asymptotics methods.\n",
    "\n",
    "Finish this section by reflecting on how your final report might play out:\n",
    "\n",
    "What do you expect to find?\n",
    "\n",
    "What impact could such findings have?\n",
    "\n",
    "What future questions could this lead to?\n"
   ]
  },
  {
   "cell_type": "markdown",
   "id": "dd9367ed-0aab-4d20-acf8-32f674472314",
   "metadata": {},
   "source": []
  },
  {
   "cell_type": "markdown",
   "id": "a6438a19-1f4a-4a8b-a6c9-ce2e47a0b217",
   "metadata": {},
   "source": [
    "## References\n",
    "At least two citations of literature relevant to the project. The citation format is your choice – just be consistent. Make sure to cite the source of your data as well."
   ]
  },
  {
   "cell_type": "markdown",
   "id": "045a598a-ff32-41ab-8d32-3656f48a3584",
   "metadata": {},
   "source": [
    "Maloney, Carolyn B. (April 2016). \"Gender Pay Inequity: Consequences for Women, Families and the Economy\" (PDF). Joint Economic Committee.\n"
   ]
  }
 ],
 "metadata": {
  "kernelspec": {
   "display_name": "R",
   "language": "R",
   "name": "ir"
  },
  "language_info": {
   "codemirror_mode": "r",
   "file_extension": ".r",
   "mimetype": "text/x-r-source",
   "name": "R",
   "pygments_lexer": "r",
   "version": "4.1.3"
  }
 },
 "nbformat": 4,
 "nbformat_minor": 5
}
